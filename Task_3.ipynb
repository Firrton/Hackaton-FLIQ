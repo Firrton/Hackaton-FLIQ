{
 "cells": [
  {
   "cell_type": "code",
   "execution_count": 13,
   "metadata": {},
   "outputs": [],
   "source": [
    "\n",
    "import requests\n",
    "import numpy as np\n",
    "import matplotlib.pyplot as plt"
   ]
  },
  {
   "cell_type": "code",
   "execution_count": 28,
   "metadata": {},
   "outputs": [],
   "source": [
    "import time\n"
   ]
  },
  {
   "cell_type": "code",
   "execution_count": 29,
   "metadata": {},
   "outputs": [],
   "source": [
    "import math"
   ]
  },
  {
   "cell_type": "code",
   "execution_count": 1,
   "metadata": {},
   "outputs": [
    {
     "name": "stdout",
     "output_type": "stream",
     "text": [
      "{\"data\":[6524,28867,-21234,12193,664,-32257,-908,-13872,3501,-7091],\"dataType\":\"int16\"}"
     ]
    }
   ],
   "source": [
    "!curl \"https://qrng.idqloud.com/api/1.0/short?max=32767&min=-32768&quantity=10\" -X GET -H \"X-API-KEY: aTo4BKRvnc49uRWDk034zaua87vGRXKk9TMLdfkI\"\n"
   ]
  },
  {
   "cell_type": "code",
   "execution_count": 2,
   "metadata": {},
   "outputs": [],
   "source": [
    "def Linear_Congruential_Generator(seed, multiplier, increment, modulus, num_samples):\n",
    "    x = seed\n",
    "    dtype = np.uint32 if modulus <= 2**32 else np.uint64\n",
    "    sequence = np.empty(num_samples, dtype=dtype)\n",
    "    for i in range(num_samples):\n",
    "        x = (multiplier * x + increment) % modulus\n",
    "        sequence[i] = x\n",
    "    return sequence"
   ]
  },
  {
   "cell_type": "code",
   "execution_count": 3,
   "metadata": {},
   "outputs": [],
   "source": [
    "class JitterRNG:\n",
    "    def __init__(self, pool_size=256):\n",
    "        self.entropy_pool = deque(maxlen=pool_size)\n",
    "        self.pool_size = pool_size\n",
    "        self.last_time = None\n",
    "\n",
    "    def _collect_timing_jitter(self, iterations=1000):\n",
    "        jitter_data = []\n",
    "        self.last_time = time.perf_counter_ns()\n",
    "        for _ in range(iterations):\n",
    "            dummy_var = 1\n",
    "            for i in range(10):\n",
    "                 dummy_var = (dummy_var * 1664525 + 1013904223) % (2**32)\n",
    "            current_time = time.perf_counter_ns()\n",
    "            time_diff = current_time - self.last_time\n",
    "            lsb = time_diff & 0xFF\n",
    "            jitter_data.append(lsb)\n",
    "            self.last_time = current_time\n",
    "        return jitter_data\n",
    "\n",
    "    def fill_entropy_pool(self):\n",
    "        jitter_data = self._collect_timing_jitter(self.pool_size)\n",
    "        for value in jitter_data:\n",
    "            self.entropy_pool.append(value)\n",
    "        return jitter_data\n",
    "\n",
    "    def get_random_bytes(self, num_bytes=32):\n",
    "        if len(self.entropy_pool) < self.pool_size:\n",
    "            self.fill_entropy_pool()\n",
    "        pool_bytes = bytes(self.entropy_pool)\n",
    "        mixed_entropy = hashlib.sha256(pool_bytes).digest()\n",
    "        result = bytearray()\n",
    "        while len(result) < num_bytes:\n",
    "            self.fill_entropy_pool()\n",
    "            pool_bytes = bytes(self.entropy_pool)\n",
    "            h = hashlib.sha256()\n",
    "            h.update(mixed_entropy)\n",
    "            h.update(pool_bytes)\n",
    "            mixed_entropy = h.digest()\n",
    "            result.extend(mixed_entropy)\n",
    "        return bytes(result[:num_bytes])\n",
    "\n",
    "    def get_random_int(self, min_val=0, max_val=100):\n",
    "        range_size = max_val - min_val + 1\n",
    "        if range_size <= 0:\n",
    "            raise ValueError(\"Invalid range\")\n",
    "        bits_needed = (range_size - 1).bit_length()\n",
    "        if bits_needed == 0:\n",
    "             bits_needed = 1\n",
    "        bytes_needed = (bits_needed + 7) // 8\n",
    "        random_bytes = self.get_random_bytes(bytes_needed)\n",
    "        value = int.from_bytes(random_bytes, byteorder='big')\n",
    "        return min_val + (value % range_size)\n",
    "\n",
    "    def analyze_randomness(self, sample_size=1000):\n",
    "         print(\"Analysis method not implemented for direct comparison in this task.\")\n",
    "         pass"
   ]
  },
  {
   "cell_type": "code",
   "execution_count": 5,
   "metadata": {},
   "outputs": [],
   "source": [
    "def compute_entropy(X, num_bins=256, entropy_type='shannon'):\n",
    "    if len(X) == 0:\n",
    "        return 0\n",
    "    hist, _ = np.histogram(X, bins=num_bins, density=False)\n",
    "\n",
    "    total_counts = np.sum(hist)\n",
    "    if total_counts == 0:\n",
    "        return 0\n",
    "\n",
    "    probabilities = hist / total_counts\n",
    "\n",
    "    if entropy_type == 'shannon':\n",
    "        entropy = 0\n",
    "        non_zero_probabilities = probabilities[probabilities > 0]\n",
    "        if len(non_zero_probabilities) > 0:\n",
    "             entropy = -np.sum(non_zero_probabilities * np.log2(non_zero_probabilities))\n",
    "        return entropy\n",
    "    elif entropy_type == 'min':\n",
    "        max_prob = np.max(probabilities)\n",
    "        if max_prob > 0:\n",
    "            return -math.log2(max_prob)\n",
    "        else:\n",
    "            return 0\n",
    "    else:\n",
    "        print(f\"Warning: Unknown entropy type '{entropy_type}'. Returning 0.\")\n",
    "        return 0"
   ]
  },
  {
   "cell_type": "code",
   "execution_count": 6,
   "metadata": {},
   "outputs": [],
   "source": [
    "QRNG_API_KEY = \"aTo4BKRvnc49uRWDk034zaua87vGRXKk9TMLdfkI\"\n",
    "QRNG_API_URL = \"https://qrng.idqloud.com/api/1.0/\""
   ]
  },
  {
   "cell_type": "code",
   "execution_count": 8,
   "metadata": {},
   "outputs": [],
   "source": [
    "def get_qrng_data(data_type=\"short\", quantity=10, min_val=None, max_val=None):\n",
    "    endpoint = f\"{QRNG_API_URL}{data_type}\"\n",
    "    params = {\n",
    "        \"quantity\": quantity\n",
    "    }\n",
    "    if data_type in [\"short\", \"int\", \"long\"]: \n",
    "        if min_val is not None:\n",
    "            params[\"min\"] = min_val\n",
    "        if max_val is not None:\n",
    "            params[\"max\"] = max_val\n",
    "\n",
    "    headers = {\n",
    "        \"X-API-KEY\": QRNG_API_KEY\n",
    "    }\n",
    "\n",
    "    print(f\"Requesting {quantity} random values of type '{data_type}' from QRNG API...\")\n",
    "    try:\n",
    "        response = requests.get(endpoint, headers=headers, params=params)\n",
    "        response.raise_for_status() \n",
    "\n",
    "        data = response.json()\n",
    "\n",
    "        if data.get(\"success\"):\n",
    "            return data.get(\"data\")\n",
    "        else:\n",
    "            print(f\"API request failed: {data.get('message', 'Unknown error')}\")\n",
    "            return None\n",
    "\n",
    "    except requests.exceptions.RequestException as e:\n",
    "        print(f\"Error fetching data from QRNG API: {e}\")\n",
    "        return None\n",
    "    except json.JSONDecodeError:\n",
    "        print(\"Error decoding JSON response from QRNG API.\")\n",
    "        return None"
   ]
  },
  {
   "cell_type": "code",
   "execution_count": 11,
   "metadata": {},
   "outputs": [
    {
     "name": "stdout",
     "output_type": "stream",
     "text": [
      "Requesting 10 random values of type 'short' from QRNG API...\n",
      "API request failed: Unknown error\n",
      "Requesting 20 random values of type 'bytes' from QRNG API...\n",
      "Error fetching data from QRNG API: 403 Client Error: Forbidden for url: https://qrng.idqloud.com/api/1.0/bytes?quantity=20\n"
     ]
    }
   ],
   "source": [
    "# Example usage of the QRNG API function:\n",
    "# Get 10 int16 random numbers between -32768 and 32767\n",
    "qrng_short_example = get_qrng_data(data_type=\"short\", quantity=10, min_val=-32768, max_val=32767)\n",
    "if qrng_short_example:\n",
    "    print(\"\\nExample QRNG 'short' data:\", qrng_short_example)\n",
    "\n",
    "qrng_bytes_example = get_qrng_data(data_type=\"bytes\", quantity=20)\n",
    "if qrng_bytes_example:\n",
    "     print(\"\\nExample QRNG 'bytes' data (as integers):\", qrng_bytes_example)\n",
    "     qrng_bytes_obj = bytes(qrng_bytes_example)\n",
    "     print(\"Example QRNG 'bytes' data (as bytes):\", qrng_bytes_obj.hex())"
   ]
  },
  {
   "cell_type": "code",
   "execution_count": 12,
   "metadata": {},
   "outputs": [],
   "source": [
    "def get_bitrate(generator_func, num_samples, sample_unit='bytes', sample_size_bits=8):\n",
    "    start_time = time.perf_counter()\n",
    "    samples = generator_func(num_samples) \n",
    "    end_time = time.perf_counter()\n",
    "\n",
    "    if samples is None:\n",
    "        print(\"Generator function returned None.\")\n",
    "        return None\n",
    "\n",
    "    duration = end_time - start_time\n",
    "\n",
    "    if duration <= 0:\n",
    "        print(\"Warning: Duration is zero or negative. Cannot calculate bitrate.\")\n",
    "        return None\n",
    "\n",
    "    total_bits = 0\n",
    "    if sample_unit == 'bytes':\n",
    "        if isinstance(samples, (list, np.ndarray)):\n",
    "             total_bits = len(samples) * 8\n",
    "        elif isinstance(samples, bytes):\n",
    "             total_bits = len(samples) * 8\n",
    "        else:\n",
    "             print(f\"Unsupported sample unit '{sample_unit}' for type {type(samples)}\")\n",
    "             return None\n",
    "    elif sample_unit == 'values':\n",
    "         total_bits = len(samples) * sample_size_bits\n",
    "    else:\n",
    "        print(f\"Unsupported sample unit: {sample_unit}\")\n",
    "        return None\n",
    "\n",
    "    bitrate = total_bits / duration\n",
    "    return bitrate\n",
    "\n"
   ]
  },
  {
   "cell_type": "code",
   "execution_count": 26,
   "metadata": {},
   "outputs": [],
   "source": [
    "def plot_entropy_comparison(generators, sample_size=10000, num_bins=256):\n",
    "    entropy_values = {}\n",
    "\n",
    "    print(f\"Calculating entropy for {sample_size} samples from each generator...\")\n",
    "\n",
    "    for name, (generator_func, sample_unit, sample_size_bits) in generators.items():\n",
    "        print(f\"  Generating samples for {name}...\")\n",
    "        samples = None\n",
    "        if name == \"QRNG (Bytes)\":\n",
    "             samples = generator_func(sample_size)\n",
    "             if samples:\n",
    "                  samples = np.array(samples) / 255.0 \n",
    "        elif name == \"QRNG (Short)\":\n",
    "             samples = generator_func(data_type=\"short\", quantity=sample_size, min_val=-32768, max_val=32767)\n",
    "             if samples:\n",
    "                 samples = (np.array(samples) - (-32768)) / (32767 - (-32768))\n",
    "        elif name == \"LCG\":\n",
    "             lcg_modulus = 2**32 \n",
    "             samples = generator_func(seed=123, multiplier=1664525, increment=1013904223, modulus=lcg_modulus, num_samples=sample_size)\n",
    "             samples = samples / lcg_modulus\n",
    "        elif name == \"JitterRNG\":\n",
    "             jitter_rng_instance = JitterRNG(pool_size=256) \n",
    "             samples = [jitter_rng_instance.get_random_int(0, 255) for _ in range(sample_size)]\n",
    "             samples = np.array(samples) / 255.0 \n",
    "\n",
    "        if samples is not None and len(samples) > 0:\n",
    "            shannon_entropy = compute_entropy(samples, num_bins=num_bins, entropy_type='shannon')\n",
    "            entropy_values[name] = shannon_entropy\n",
    "            print(f\"    {name} Shannon Entropy: {shannon_entropy:.4f} bits\")\n",
    "        else:\n",
    "            print(f\"    Could not generate samples for {name}.\")\n",
    "            entropy_values[name] = None\n",
    "\n",
    "    if entropy_values:\n",
    "        valid_generators = {k: v for k, v in entropy_values.items() if v is not None}\n",
    "        if valid_generators:\n",
    "            names = list(valid_generators.keys())\n",
    "            entropies = list(valid_generators.values())\n",
    "\n",
    "            plt.figure(figsize=(10, 6))\n",
    "            plt.bar(names, entropies, color=['blue', 'green', 'red', 'purple'])\n",
    "            plt.ylabel('Shannon Entropy (bits)')\n",
    "            plt.title(f'Shannon Entropy Comparison ({sample_size} samples, {num_bins} bins)')\n",
    "            plt.ylim(0, math.log2(num_bins) + 1) \n",
    "            plt.grid(axis='y', alpha=0.7)\n",
    "            plt.show()\n",
    "        else:\n",
    "            print(\"No valid entropy values to plot.\")\n",
    "    else:\n",
    "        print(\"No entropy data available for plotting.\")\n",
    "\n"
   ]
  },
  {
   "cell_type": "code",
   "execution_count": 17,
   "metadata": {},
   "outputs": [
    {
     "name": "stdout",
     "output_type": "stream",
     "text": [
      "\n",
      "--- Performance Comparison (Bitrate and Entropy) ---\n",
      "\n",
      "Measuring bitrate using 10000 bytes/equivalent...\n",
      "Requesting 10000 random values of type 'bytes' from QRNG API...\n",
      "Error fetching data from QRNG API: 403 Client Error: Forbidden for url: https://qrng.idqloud.com/api/1.0/bytes?quantity=10000\n",
      "Generator function returned None.\n",
      "LCG Bitrate: 108740.18 Kbps\n"
     ]
    }
   ],
   "source": [
    "comparison_sample_size_bytes = 10000 \n",
    "comparison_sample_size_entropy = 10000 \n",
    "entropy_bins_for_comparison = 256 \n",
    "\n",
    "print(\"\\n--- Performance Comparison (Bitrate and Entropy) ---\")\n",
    "\n",
    "print(f\"\\nMeasuring bitrate using {comparison_sample_size_bytes} bytes/equivalent...\")\n",
    "\n",
    "bitrates = {}\n",
    "\n",
    "def qrng_bytes_generator(num_bytes):\n",
    "    return get_qrng_data(data_type=\"bytes\", quantity=num_bytes)\n",
    "\n",
    "qrng_bytes_bitrate = get_bitrate(qrng_bytes_generator, comparison_sample_size_bytes, sample_unit='bytes')\n",
    "if qrng_bytes_bitrate is not None:\n",
    "    bitrates[\"QRNG (Bytes)\"] = qrng_bytes_bitrate\n",
    "    print(f\"QRNG (Bytes) Bitrate: {qrng_bytes_bitrate / 1000:.2f} Kbps\")\n",
    "\n",
    "lcg_modulus = 2**32\n",
    "lcg_bits_per_sample = lcg_modulus.bit_length() \n",
    "\n",
    "num_lcg_samples_for_bitrate = int((comparison_sample_size_bytes * 8) / lcg_bits_per_sample)\n",
    "if num_lcg_samples_for_bitrate > 0:\n",
    "    def lcg_bitrate_generator(num_samples):\n",
    "         return Linear_Congruential_Generator(seed=123, multiplier=1664525, increment=1013904223, modulus=lcg_modulus, num_samples=num_samples)\n",
    "\n",
    "    lcg_bitrate = get_bitrate(lcg_bitrate_generator, num_lcg_samples_for_bitrate, sample_unit='values', sample_size_bits=lcg_bits_per_sample)\n",
    "    if lcg_bitrate is not None:\n",
    "        bitrates[\"LCG\"] = lcg_bitrate\n",
    "        print(f\"LCG Bitrate: {lcg_bitrate / 1000:.2f} Kbps\")\n",
    "else:\n",
    "    print(\"Not enough bits requested for LCG bitrate calculation.\")"
   ]
  },
  {
   "cell_type": "code",
   "execution_count": 23,
   "metadata": {},
   "outputs": [
    {
     "name": "stdout",
     "output_type": "stream",
     "text": [
      "JitterRNG Bitrate: 1084.47 Kbps\n"
     ]
    },
    {
     "data": {
      "image/png": "[encoded data removed]",
      "text/plain": [
       "<Figure size 1000x600 with 1 Axes>"
      ]
     },
     "metadata": {},
     "output_type": "display_data"
    }
   ],
   "source": [
    "def jitter_rng_bytes_generator(num_bytes):\n",
    "     jitter_rng_instance = JitterRNG(pool_size=256) \n",
    "     return jitter_rng_instance.get_random_bytes(num_bytes)\n",
    "\n",
    "jitter_rng_bitrate = get_bitrate(jitter_rng_bytes_generator, comparison_sample_size_bytes, sample_unit='bytes')\n",
    "if jitter_rng_bitrate is not None:\n",
    "    bitrates[\"JitterRNG\"] = jitter_rng_bitrate\n",
    "    print(f\"JitterRNG Bitrate: {jitter_rng_bitrate / 1000:.2f} Kbps\")\n",
    "\n",
    "\n",
    "if bitrates:\n",
    "    names = list(bitrates.keys())\n",
    "    rates = list(bitrates.values())\n",
    "\n",
    "    plt.figure(figsize=(10, 6))\n",
    "    plt.bar(names, rates, color=['blue', 'green', 'red'])\n",
    "    plt.ylabel('Bitrate (bps)')\n",
    "    plt.title(f'Random Number Generator Bitrate Comparison ({comparison_sample_size_bytes} bytes/equivalent)')\n",
    "    plt.grid(axis='y', alpha=0.7)\n",
    "    plt.show()\n",
    "else:\n",
    "    print(\"No bitrate data available for plotting.\")\n"
   ]
  },
  {
   "cell_type": "code",
   "execution_count": 30,
   "metadata": {},
   "outputs": [
    {
     "name": "stdout",
     "output_type": "stream",
     "text": [
      "\n",
      "Measuring entropy using 10000 samples...\n",
      "Calculating entropy for 10000 samples from each generator...\n",
      "  Generating samples for QRNG (Bytes)...\n",
      "Requesting 10000 random values of type 'bytes' from QRNG API...\n",
      "Error fetching data from QRNG API: 403 Client Error: Forbidden for url: https://qrng.idqloud.com/api/1.0/bytes?quantity=10000\n",
      "    Could not generate samples for QRNG (Bytes).\n",
      "  Generating samples for LCG...\n",
      "    LCG Shannon Entropy: 7.9839 bits\n",
      "  Generating samples for JitterRNG...\n",
      "    JitterRNG Shannon Entropy: 7.9829 bits\n"
     ]
    },
    {
     "data": {
      "image/png": "[encoded data removed]",
      "text/plain": [
       "<Figure size 1000x600 with 1 Axes>"
      ]
     },
     "metadata": {},
     "output_type": "display_data"
    }
   ],
   "source": [
    "print(f\"\\nMeasuring entropy using {comparison_sample_size_entropy} samples...\")\n",
    "\n",
    "entropy_generators = {\n",
    "    \"QRNG (Bytes)\": (qrng_bytes_generator, 'bytes', 8), \n",
    "    \"LCG\": (Linear_Congruential_Generator, 'values', lcg_bits_per_sample), \n",
    "    \"JitterRNG\": (JitterRNG, 'bytes', 8) \n",
    "}\n",
    "\n",
    "plot_entropy_comparison(entropy_generators, sample_size=comparison_sample_size_entropy, num_bins=entropy_bins_for_comparison)\n"
   ]
  },
  {
   "cell_type": "code",
   "execution_count": null,
   "metadata": {},
   "outputs": [],
   "source": []
  },
  {
   "cell_type": "code",
   "execution_count": 22,
   "metadata": {},
   "outputs": [],
   "source": [
    "import hashlib"
   ]
  },
  {
   "cell_type": "code",
   "execution_count": null,
   "metadata": {},
   "outputs": [],
   "source": []
  },
  {
   "cell_type": "code",
   "execution_count": null,
   "metadata": {},
   "outputs": [],
   "source": [
    "\"\"\"\n",
    "You can paste the other environmental entropy based TRNGs from Task 2 and compare the performance\n",
    "Compare your written QRNG to the previous TRNGs. Be sure to compare them with respect to bitrate and entropy.\n",
    "\"\"\"\n",
    "def plot_entropy():\n",
    "    pass # TODO\n",
    "\n",
    "def get_bitrate():\n",
    "    pass # TODO"
   ]
  }
 ],
 "metadata": {
  "kernelspec": {
   "display_name": "base",
   "language": "python",
   "name": "python3"
  },
  "language_info": {
   "codemirror_mode": {
    "name": "ipython",
    "version": 3
   },
   "file_extension": ".py",
   "mimetype": "text/x-python",
   "name": "python",
   "nbconvert_exporter": "python",
   "pygments_lexer": "ipython3",
   "version": "3.12.7"
  }
 },
 "nbformat": 4,
 "nbformat_minor": 2
}
